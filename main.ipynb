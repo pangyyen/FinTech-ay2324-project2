{
 "cells": [
  {
   "cell_type": "code",
   "execution_count": 226,
   "metadata": {},
   "outputs": [],
   "source": [
    "from transformers import pipeline\n",
    "from transformers import AutoTokenizer, AutoModelForSequenceClassification, Trainer, TrainingArguments\n",
    "\n",
    "import numpy as np\n",
    "import pandas as pd\n",
    "import seaborn as sns\n",
    "import matplotlib.pyplot as plt\n",
    "\n",
    "from datasets import load_dataset\n"
   ]
  },
  {
   "cell_type": "code",
   "execution_count": 227,
   "metadata": {},
   "outputs": [],
   "source": [
    "# Auxiliary functions\n",
    "def sanity_check():\n",
    "    pass"
   ]
  },
  {
   "cell_type": "markdown",
   "metadata": {},
   "source": [
    "## Descriptive Analysis and Pre-processing of the Data"
   ]
  },
  {
   "cell_type": "code",
   "execution_count": 228,
   "metadata": {},
   "outputs": [
    {
     "data": {
      "text/html": [
       "<div>\n",
       "<style scoped>\n",
       "    .dataframe tbody tr th:only-of-type {\n",
       "        vertical-align: middle;\n",
       "    }\n",
       "\n",
       "    .dataframe tbody tr th {\n",
       "        vertical-align: top;\n",
       "    }\n",
       "\n",
       "    .dataframe thead th {\n",
       "        text-align: right;\n",
       "    }\n",
       "</style>\n",
       "<table border=\"1\" class=\"dataframe\">\n",
       "  <thead>\n",
       "    <tr style=\"text-align: right;\">\n",
       "      <th></th>\n",
       "      <th>Text</th>\n",
       "      <th>Sentiment</th>\n",
       "    </tr>\n",
       "  </thead>\n",
       "  <tbody>\n",
       "    <tr>\n",
       "      <th>0</th>\n",
       "      <td>Kickers on my watchlist XIDE TIT SOQ PNK CPW B...</td>\n",
       "      <td>1</td>\n",
       "    </tr>\n",
       "    <tr>\n",
       "      <th>1</th>\n",
       "      <td>user: AAP MOVIE. 55% return for the FEA/GEED i...</td>\n",
       "      <td>1</td>\n",
       "    </tr>\n",
       "    <tr>\n",
       "      <th>2</th>\n",
       "      <td>user I'd be afraid to short AMZN - they are lo...</td>\n",
       "      <td>1</td>\n",
       "    </tr>\n",
       "    <tr>\n",
       "      <th>3</th>\n",
       "      <td>MNTA Over 12.00</td>\n",
       "      <td>1</td>\n",
       "    </tr>\n",
       "    <tr>\n",
       "      <th>4</th>\n",
       "      <td>OI  Over 21.37</td>\n",
       "      <td>1</td>\n",
       "    </tr>\n",
       "    <tr>\n",
       "      <th>5</th>\n",
       "      <td>PGNX  Over 3.04</td>\n",
       "      <td>1</td>\n",
       "    </tr>\n",
       "    <tr>\n",
       "      <th>6</th>\n",
       "      <td>AAP - user if so then the current downtrend wi...</td>\n",
       "      <td>-1</td>\n",
       "    </tr>\n",
       "    <tr>\n",
       "      <th>7</th>\n",
       "      <td>Monday's relative weakness. NYX WIN TIE TAP IC...</td>\n",
       "      <td>-1</td>\n",
       "    </tr>\n",
       "    <tr>\n",
       "      <th>8</th>\n",
       "      <td>GOOG - ower trend line channel test &amp; volume s...</td>\n",
       "      <td>1</td>\n",
       "    </tr>\n",
       "    <tr>\n",
       "      <th>9</th>\n",
       "      <td>AAP will watch tomorrow for ONG entry.</td>\n",
       "      <td>1</td>\n",
       "    </tr>\n",
       "  </tbody>\n",
       "</table>\n",
       "</div>"
      ],
      "text/plain": [
       "                                                Text  Sentiment\n",
       "0  Kickers on my watchlist XIDE TIT SOQ PNK CPW B...          1\n",
       "1  user: AAP MOVIE. 55% return for the FEA/GEED i...          1\n",
       "2  user I'd be afraid to short AMZN - they are lo...          1\n",
       "3                                  MNTA Over 12.00            1\n",
       "4                                   OI  Over 21.37            1\n",
       "5                                  PGNX  Over 3.04            1\n",
       "6  AAP - user if so then the current downtrend wi...         -1\n",
       "7  Monday's relative weakness. NYX WIN TIE TAP IC...         -1\n",
       "8  GOOG - ower trend line channel test & volume s...          1\n",
       "9             AAP will watch tomorrow for ONG entry.          1"
      ]
     },
     "execution_count": 228,
     "metadata": {},
     "output_type": "execute_result"
    }
   ],
   "source": [
    "df = pd.read_csv('stock_data.csv')\n",
    "df.head(10)"
   ]
  },
  {
   "cell_type": "markdown",
   "metadata": {},
   "source": [
    "### 1. Observe the number of sentiment to handle data imbalance\n",
    "- analysis: data is slightly imbalanced with a 2:3 ratio\n",
    "- action: use downsampling to balance the data (caveat: loss of information)"
   ]
  },
  {
   "cell_type": "code",
   "execution_count": 229,
   "metadata": {},
   "outputs": [
    {
     "data": {
      "image/png": "[encoded data removed]",
      "text/plain": [
       "<Figure size 640x480 with 1 Axes>"
      ]
     },
     "metadata": {},
     "output_type": "display_data"
    }
   ],
   "source": [
    "def check_class_imbalance(df):\n",
    "    '''print out the number of samples per class'''\n",
    "    \n",
    "    ax = sns.countplot(x='Sentiment', data=df)\n",
    "    ax.set_title('Number of samples per class')\n",
    "    ax.bar_label(ax.containers[0])\n",
    "    \n",
    "check_class_imbalance(df)"
   ]
  },
  {
   "cell_type": "code",
   "execution_count": 230,
   "metadata": {},
   "outputs": [
    {
     "data": {
      "image/png": "[encoded data removed]",
      "text/plain": [
       "<Figure size 640x480 with 1 Axes>"
      ]
     },
     "metadata": {},
     "output_type": "display_data"
    }
   ],
   "source": [
    "# execution of down sampling \n",
    "def down_sampling_to_equal_amount(df):\n",
    "    '''downsampling to equal amount of samples for each class, index will be reset'''\n",
    "\n",
    "    n_samples = df.Sentiment.value_counts().min()\n",
    "    df_copy = df.groupby('Sentiment').apply(lambda x: x.sample(n_samples)).reset_index(drop=True)\n",
    "    \n",
    "    return df_copy.sample(frac=1)\n",
    "\n",
    "df = down_sampling_to_equal_amount(df)\n",
    "check_class_imbalance(df)"
   ]
  },
  {
   "cell_type": "markdown",
   "metadata": {},
   "source": [
    "### 2. Observe the length of input text\n",
    "- length analysis: the length of each input is almost symmetrically distributed between 2 and 32; \n",
    "    - no significant outliers\n",
    "    - no significant difference between the length of 1 and -1 sentiment labels\n",
    "- action : None, padding will be done together with data preprocessing before training\n"
   ]
  },
  {
   "cell_type": "code",
   "execution_count": 231,
   "metadata": {},
   "outputs": [
    {
     "name": "stdout",
     "output_type": "stream",
     "text": [
      "Range of text length: 2 - 32\n"
     ]
    }
   ],
   "source": [
    "def print_range_of_text_length(df):\n",
    "    '''print out the range of text length'''\n",
    "    \n",
    "    df['text_length'] = df['Text'].apply(lambda x: len(x.split()))\n",
    "    print(f\"Range of text length: {df['text_length'].min()} - {df['text_length'].max()}\")\n",
    "\n",
    "print_range_of_text_length(df)"
   ]
  },
  {
   "cell_type": "code",
   "execution_count": 232,
   "metadata": {},
   "outputs": [
    {
     "data": {
      "image/png": "[encoded data removed]",
      "text/plain": [
       "<Figure size 582.736x500 with 1 Axes>"
      ]
     },
     "metadata": {},
     "output_type": "display_data"
    }
   ],
   "source": [
    "def plot_word_distribution(df):\n",
    "    '''plot the distribution of the number of words in each sample'''\n",
    "    \n",
    "    df['word_count'] = df['Text'].apply(lambda x: len(x.split()))\n",
    "    ax = sns.displot(data=df, x='word_count', hue='Sentiment', kind='kde', fill=True)\n",
    "    ax.set_titles('Distribution of number of words in each sample')\n",
    "\n",
    "plot_word_distribution(df)"
   ]
  },
  {
   "cell_type": "markdown",
   "metadata": {},
   "source": [
    "### 3. Observe the number of unique charaters in the input text\n",
    "- action: None, can be done by pre-trained model from hugging face"
   ]
  },
  {
   "cell_type": "code",
   "execution_count": 233,
   "metadata": {},
   "outputs": [
    {
     "name": "stderr",
     "output_type": "stream",
     "text": [
      "/Users/pangyen/anaconda3/envs/bert-venv/lib/python3.10/site-packages/IPython/core/pylabtools.py:152: UserWarning: Glyph 157 (\\x9d) missing from current font.\n",
      "  fig.canvas.print_figure(bytes_io, **kw)\n",
      "/Users/pangyen/anaconda3/envs/bert-venv/lib/python3.10/site-packages/IPython/core/pylabtools.py:152: UserWarning: Glyph 129 (\\x81) missing from current font.\n",
      "  fig.canvas.print_figure(bytes_io, **kw)\n"
     ]
    },
    {
     "data": {
      "image/png": "[encoded data removed]",
      "text/plain": [
       "<Figure size 1000x600 with 1 Axes>"
      ]
     },
     "metadata": {},
     "output_type": "display_data"
    }
   ],
   "source": [
    "from collections import Counter\n",
    "\n",
    "def plot_special_character_frequency(df):\n",
    "    '''plot the frequency of special characters'''\n",
    "    \n",
    "    all_text = ''.join(df['Text'])\n",
    "    special_char_counter = Counter(char for char in all_text if not char.isalnum() and not char.isspace())\n",
    "    sorted_special_chars = sorted(special_char_counter, key=special_char_counter.get, reverse=True)\n",
    "    sorted_counts = [special_char_counter[char] for char in sorted_special_chars]\n",
    "\n",
    "    # Plot the occurrences of different special characters\n",
    "    plt.figure(figsize=(10, 6))\n",
    "    plt.bar(sorted_special_chars, sorted_counts, color='orange')\n",
    "    plt.title('Special Character Frequency (Sorted)')\n",
    "    plt.xlabel('Special Characters')\n",
    "    plt.ylabel('Frequency')\n",
    "    plt.show()\n",
    "\n",
    "plot_special_character_frequency(df)"
   ]
  },
  {
   "cell_type": "markdown",
   "metadata": {},
   "source": [
    "## Import pre-trained model from hugging face"
   ]
  },
  {
   "cell_type": "code",
   "execution_count": 234,
   "metadata": {},
   "outputs": [
    {
     "name": "stderr",
     "output_type": "stream",
     "text": [
      "Some weights of RobertaForSequenceClassification were not initialized from the model checkpoint at roberta-base and are newly initialized: ['classifier.dense.weight', 'classifier.out_proj.weight', 'classifier.dense.bias', 'classifier.out_proj.bias']\n",
      "You should probably TRAIN this model on a down-stream task to be able to use it for predictions and inference.\n"
     ]
    }
   ],
   "source": [
    "# Load the tokenizer and model\n",
    "from transformers import RobertaTokenizer, RobertaForSequenceClassification\n",
    "\n",
    "tokenizer = RobertaTokenizer.from_pretrained('roberta-base')\n",
    "model = RobertaForSequenceClassification.from_pretrained('roberta-base', num_labels=2)"
   ]
  },
  {
   "cell_type": "markdown",
   "metadata": {},
   "source": [
    "## Data Preprocessing for BERT\n",
    "1. Replace the -1 sentiment label with 0 to be consistent with the BERT model\n",
    "2. Train test split\n",
    "3. Tokenize the input text and wrap them into HuggingFace dataset"
   ]
  },
  {
   "cell_type": "code",
   "execution_count": 235,
   "metadata": {},
   "outputs": [],
   "source": [
    "from sklearn.model_selection import train_test_split\n",
    "from datasets import Dataset\n",
    "\n",
    "# 1. replace -1 as 0\n",
    "df['Sentiment'] = df['Sentiment'].replace(-1, 0) \n",
    "\n",
    "# 2. Split the data into training and testing\n",
    "train_df, test_df = train_test_split(df, test_size=0.1, random_state=40)\n",
    "\n",
    "# 3. Tokenize the dataset\n",
    "train_tokenized = tokenizer(train_df[\"Text\"].tolist(), truncation=True, padding=True)\n",
    "test_tokenized = tokenizer(test_df[\"Text\"].tolist(), truncation=True, padding=True)\n",
    "\n",
    "# 4. Create datasets\n",
    "train_dataset = Dataset.from_dict({\"input_ids\": train_tokenized[\"input_ids\"], \"attention_mask\": train_tokenized[\"attention_mask\"], \"label\": train_df[\"Sentiment\"]})\n",
    "test_dataset = Dataset.from_dict({\"input_ids\": test_tokenized[\"input_ids\"], \"attention_mask\": test_tokenized[\"attention_mask\"], \"label\": test_df[\"Sentiment\"]})"
   ]
  },
  {
   "cell_type": "markdown",
   "metadata": {},
   "source": [
    "Validation of the data preprocessing:"
   ]
  },
  {
   "cell_type": "code",
   "execution_count": 236,
   "metadata": {},
   "outputs": [
    {
     "name": "stdout",
     "output_type": "stream",
     "text": [
      "Training Dataset:\n",
      "Sample 1: Text - [0, 534, 18375, 4270, 47266, 229, 1173, 1688, 163, 4911, 1543, 18, 9846, 598, 7238, 832, 1260, 6710, 4082, 415, 50118, 13082, 640, 90, 4, 876, 73, 28732, 1301, 428, 10245, 298, 134, 673, 406, 2, 1, 1, 1, 1, 1, 1, 1, 1, 1, 1, 1, 1, 1, 1, 1, 1, 1, 1, 1, 1, 1, 1, 1, 1, 1, 1, 1, 1, 1, 1, 1, 1], Sentiment - 0\n",
      "Sample 2: Text - [0, 534, 9332, 534, 11383, 202, 259, 111, 475, 7282, 1411, 1275, 380, 98, 473, 42, 2, 1, 1, 1, 1, 1, 1, 1, 1, 1, 1, 1, 1, 1, 1, 1, 1, 1, 1, 1, 1, 1, 1, 1, 1, 1, 1, 1, 1, 1, 1, 1, 1, 1, 1, 1, 1, 1, 1, 1, 1, 1, 1, 1, 1, 1, 1, 1, 1, 1, 1, 1], Sentiment - 0\n",
      "Sample 3: Text - [0, 10836, 5, 13382, 9481, 11363, 1780, 10, 31885, 6149, 1527, 470, 3061, 5149, 116, 1437, 1437, 2, 1, 1, 1, 1, 1, 1, 1, 1, 1, 1, 1, 1, 1, 1, 1, 1, 1, 1, 1, 1, 1, 1, 1, 1, 1, 1, 1, 1, 1, 1, 1, 1, 1, 1, 1, 1, 1, 1, 1, 1, 1, 1, 1, 1, 1, 1, 1, 1, 1, 1], Sentiment - 1\n",
      "Sample 4: Text - [0, 250, 591, 449, 32925, 111, 44660, 34437, 5567, 6622, 117, 449, 32925, 10619, 1437, 1437, 2, 1, 1, 1, 1, 1, 1, 1, 1, 1, 1, 1, 1, 1, 1, 1, 1, 1, 1, 1, 1, 1, 1, 1, 1, 1, 1, 1, 1, 1, 1, 1, 1, 1, 1, 1, 1, 1, 1, 1, 1, 1, 1, 1, 1, 1, 1, 1, 1, 1, 1, 1], Sentiment - 0\n",
      "Sample 5: Text - [0, 20057, 546, 1341, 4649, 1173, 23, 5, 1151, 4, 2, 1, 1, 1, 1, 1, 1, 1, 1, 1, 1, 1, 1, 1, 1, 1, 1, 1, 1, 1, 1, 1, 1, 1, 1, 1, 1, 1, 1, 1, 1, 1, 1, 1, 1, 1, 1, 1, 1, 1, 1, 1, 1, 1, 1, 1, 1, 1, 1, 1, 1, 1, 1, 1, 1, 1, 1, 1], Sentiment - 0\n",
      "\n",
      "Testing Dataset:\n",
      "Sample 1: Text - [0, 16972, 1000, 163, 1862, 673, 47038, 47038, 47038, 47038, 16506, 2, 1, 1, 1, 1, 1, 1, 1, 1, 1, 1, 1, 1, 1, 1, 1, 1, 1, 1, 1, 1, 1, 1, 1, 1, 1, 1, 1, 1, 1, 1, 1, 1, 1, 1, 1, 1, 1, 1, 1, 1, 1, 1], Sentiment - 0\n",
      "Sample 2: Text - [0, 12105, 35, 7951, 12115, 71, 24, 116, 29, 775, 4, 15, 571, 114, 13410, 5545, 4, 1978, 4, 12457, 872, 5138, 4, 4027, 1437, 1437, 2, 1, 1, 1, 1, 1, 1, 1, 1, 1, 1, 1, 1, 1, 1, 1, 1, 1, 1, 1, 1, 1, 1, 1, 1, 1, 1, 1], Sentiment - 1\n",
      "Sample 3: Text - [0, 1106, 3326, 1301, 487, 1239, 66, 4420, 1334, 7033, 6917, 5121, 534, 357, 28, 7316, 4, 2, 1, 1, 1, 1, 1, 1, 1, 1, 1, 1, 1, 1, 1, 1, 1, 1, 1, 1, 1, 1, 1, 1, 1, 1, 1, 1, 1, 1, 1, 1, 1, 1, 1, 1, 1, 1], Sentiment - 0\n",
      "Sample 4: Text - [0, 17425, 27941, 10, 538, 299, 73, 3530, 11, 452, 15, 155, 417, 12168, 4, 1437, 124, 7, 311, 162, 675, 15, 42, 333, 4, 11990, 41, 4205, 563, 15, 10881, 17677, 12935, 211, 27140, 11643, 14780, 2, 1, 1, 1, 1, 1, 1, 1, 1, 1, 1, 1, 1, 1, 1, 1, 1], Sentiment - 0\n",
      "Sample 5: Text - [0, 250, 591, 1375, 1065, 38305, 27475, 452, 16, 12115, 13, 3859, 4, 2, 1, 1, 1, 1, 1, 1, 1, 1, 1, 1, 1, 1, 1, 1, 1, 1, 1, 1, 1, 1, 1, 1, 1, 1, 1, 1, 1, 1, 1, 1, 1, 1, 1, 1, 1, 1, 1, 1, 1, 1], Sentiment - 1\n"
     ]
    }
   ],
   "source": [
    "# Display a few samples from the training dataset\n",
    "print(\"Training Dataset:\")\n",
    "for i in range(5):  # Display the sentiment labels for the first 5 samples\n",
    "    sample = train_dataset[i]\n",
    "    print(f\"Sample {i + 1}: Text - {sample['input_ids']}, Sentiment - {sample['label']}\")\n",
    "\n",
    "# Display a few samples from the testing dataset\n",
    "print(\"\\nTesting Dataset:\")\n",
    "for i in range(5):  # Display the sentiment labels for the first 5 samples\n",
    "    sample = test_dataset[i]\n",
    "    print(f\"Sample {i + 1}: Text - {sample['input_ids']}, Sentiment - {sample['label']}\")\n"
   ]
  },
  {
   "cell_type": "markdown",
   "metadata": {},
   "source": [
    "## Fine-Tuning BERT"
   ]
  },
  {
   "cell_type": "code",
   "execution_count": 237,
   "metadata": {},
   "outputs": [],
   "source": [
    "from transformers import DataCollatorWithPadding\n",
    "from sklearn.metrics import accuracy_score, confusion_matrix\n",
    "data_collator = DataCollatorWithPadding(tokenizer=tokenizer)\n",
    "\n",
    "import evaluate\n",
    "accuracy = evaluate.load(\"accuracy\")\n",
    "\n",
    "def compute_metrics(eval_pred):\n",
    "    predictions, labels = eval_pred\n",
    "    predictions = np.argmax(predictions, axis=1)\n",
    "    \n",
    "    # Compute the confusion matrix\n",
    "    conf_mat = confusion_matrix(labels, predictions)\n",
    "    \n",
    "    # Print or return the confusion matrix\n",
    "    print(\"Confusion Matrix:\")\n",
    "    print(conf_mat)\n",
    "    \n",
    "    # Return a dictionary with additional metrics if needed\n",
    "    return accuracy.compute(predictions=predictions, references=labels)\n",
    "\n",
    "# Training arguments\n",
    "training_args = TrainingArguments(\n",
    "    per_device_train_batch_size=8,\n",
    "    per_device_eval_batch_size=8,\n",
    "    output_dir=\"./sentiment_model\",\n",
    "    learning_rate=1e-5,\n",
    "    num_train_epochs=6,\n",
    "    weight_decay=0.01,\n",
    "    evaluation_strategy=\"epoch\",\n",
    "    save_strategy=\"epoch\",\n",
    ")\n",
    "\n",
    "# Trainer\n",
    "trainer = Trainer(\n",
    "    model=model,\n",
    "    args=training_args,\n",
    "    train_dataset=train_dataset,\n",
    "    eval_dataset=test_dataset,\n",
    "    tokenizer=tokenizer,\n",
    "    data_collator=data_collator,\n",
    "    compute_metrics=compute_metrics,\n",
    ")\n"
   ]
  },
  {
   "cell_type": "markdown",
   "metadata": {},
   "source": [
    "## Training and Evaluation"
   ]
  },
  {
   "cell_type": "code",
   "execution_count": 238,
   "metadata": {},
   "outputs": [
    {
     "data": {
      "application/vnd.jupyter.widget-view+json": {
       "model_id": "cd0e9339f927403da2ff9d15d137a803",
       "version_major": 2,
       "version_minor": 0
      },
      "text/plain": [
       "  0%|          | 0/2844 [00:00<?, ?it/s]"
      ]
     },
     "metadata": {},
     "output_type": "display_data"
    },
    {
     "data": {
      "application/vnd.jupyter.widget-view+json": {
       "model_id": "00a00b642ec248009b4467ba549720f8",
       "version_major": 2,
       "version_minor": 0
      },
      "text/plain": [
       "  0%|          | 0/53 [00:00<?, ?it/s]"
      ]
     },
     "metadata": {},
     "output_type": "display_data"
    },
    {
     "name": "stderr",
     "output_type": "stream",
     "text": [
      "Checkpoint destination directory ./sentiment_model/checkpoint-474 already exists and is non-empty.Saving will proceed but saved results may be invalid.\n"
     ]
    },
    {
     "name": "stdout",
     "output_type": "stream",
     "text": [
      "Confusion Matrix:\n",
      "[[174  39]\n",
      " [ 46 163]]\n",
      "{'eval_loss': 0.44848382472991943, 'eval_accuracy': 0.7985781990521327, 'eval_runtime': 1.3483, 'eval_samples_per_second': 312.976, 'eval_steps_per_second': 39.307, 'epoch': 1.0}\n",
      "{'loss': 0.5885, 'learning_rate': 8.241912798874826e-06, 'epoch': 1.05}\n"
     ]
    },
    {
     "data": {
      "application/vnd.jupyter.widget-view+json": {
       "model_id": "9ff1f061dfcd4099b3aed40bb103bd40",
       "version_major": 2,
       "version_minor": 0
      },
      "text/plain": [
       "  0%|          | 0/53 [00:00<?, ?it/s]"
      ]
     },
     "metadata": {},
     "output_type": "display_data"
    },
    {
     "name": "stderr",
     "output_type": "stream",
     "text": [
      "Checkpoint destination directory ./sentiment_model/checkpoint-948 already exists and is non-empty.Saving will proceed but saved results may be invalid.\n"
     ]
    },
    {
     "name": "stdout",
     "output_type": "stream",
     "text": [
      "Confusion Matrix:\n",
      "[[177  36]\n",
      " [ 39 170]]\n",
      "{'eval_loss': 0.5157855153083801, 'eval_accuracy': 0.8222748815165877, 'eval_runtime': 1.4358, 'eval_samples_per_second': 293.91, 'eval_steps_per_second': 36.913, 'epoch': 2.0}\n",
      "{'loss': 0.4157, 'learning_rate': 6.483825597749649e-06, 'epoch': 2.11}\n"
     ]
    },
    {
     "data": {
      "application/vnd.jupyter.widget-view+json": {
       "model_id": "32ed9ec942494113b677b837ecd07c2b",
       "version_major": 2,
       "version_minor": 0
      },
      "text/plain": [
       "  0%|          | 0/53 [00:00<?, ?it/s]"
      ]
     },
     "metadata": {},
     "output_type": "display_data"
    },
    {
     "name": "stderr",
     "output_type": "stream",
     "text": [
      "Checkpoint destination directory ./sentiment_model/checkpoint-1422 already exists and is non-empty.Saving will proceed but saved results may be invalid.\n"
     ]
    },
    {
     "name": "stdout",
     "output_type": "stream",
     "text": [
      "Confusion Matrix:\n",
      "[[178  35]\n",
      " [ 43 166]]\n",
      "{'eval_loss': 0.6775554418563843, 'eval_accuracy': 0.8151658767772512, 'eval_runtime': 1.4359, 'eval_samples_per_second': 293.902, 'eval_steps_per_second': 36.912, 'epoch': 3.0}\n",
      "{'loss': 0.3776, 'learning_rate': 4.725738396624473e-06, 'epoch': 3.16}\n"
     ]
    },
    {
     "data": {
      "application/vnd.jupyter.widget-view+json": {
       "model_id": "2c9f815145524250b5afc784d77e3e59",
       "version_major": 2,
       "version_minor": 0
      },
      "text/plain": [
       "  0%|          | 0/53 [00:00<?, ?it/s]"
      ]
     },
     "metadata": {},
     "output_type": "display_data"
    },
    {
     "name": "stderr",
     "output_type": "stream",
     "text": [
      "Checkpoint destination directory ./sentiment_model/checkpoint-1896 already exists and is non-empty.Saving will proceed but saved results may be invalid.\n"
     ]
    },
    {
     "name": "stdout",
     "output_type": "stream",
     "text": [
      "Confusion Matrix:\n",
      "[[175  38]\n",
      " [ 35 174]]\n",
      "{'eval_loss': 0.8073132634162903, 'eval_accuracy': 0.8270142180094787, 'eval_runtime': 1.4643, 'eval_samples_per_second': 288.2, 'eval_steps_per_second': 36.196, 'epoch': 4.0}\n",
      "{'loss': 0.3005, 'learning_rate': 2.967651195499297e-06, 'epoch': 4.22}\n"
     ]
    },
    {
     "data": {
      "application/vnd.jupyter.widget-view+json": {
       "model_id": "ec56a1dd3517479d81e4de1705d9a926",
       "version_major": 2,
       "version_minor": 0
      },
      "text/plain": [
       "  0%|          | 0/53 [00:00<?, ?it/s]"
      ]
     },
     "metadata": {},
     "output_type": "display_data"
    },
    {
     "name": "stderr",
     "output_type": "stream",
     "text": [
      "Checkpoint destination directory ./sentiment_model/checkpoint-2370 already exists and is non-empty.Saving will proceed but saved results may be invalid.\n"
     ]
    },
    {
     "name": "stdout",
     "output_type": "stream",
     "text": [
      "Confusion Matrix:\n",
      "[[177  36]\n",
      " [ 46 163]]\n",
      "{'eval_loss': 0.951352059841156, 'eval_accuracy': 0.8056872037914692, 'eval_runtime': 1.4048, 'eval_samples_per_second': 300.407, 'eval_steps_per_second': 37.729, 'epoch': 5.0}\n",
      "{'loss': 0.2477, 'learning_rate': 1.2095639943741212e-06, 'epoch': 5.27}\n"
     ]
    },
    {
     "data": {
      "application/vnd.jupyter.widget-view+json": {
       "model_id": "5759ab9c0b394d5ab566e3d51d589797",
       "version_major": 2,
       "version_minor": 0
      },
      "text/plain": [
       "  0%|          | 0/53 [00:00<?, ?it/s]"
      ]
     },
     "metadata": {},
     "output_type": "display_data"
    },
    {
     "name": "stderr",
     "output_type": "stream",
     "text": [
      "Checkpoint destination directory ./sentiment_model/checkpoint-2844 already exists and is non-empty.Saving will proceed but saved results may be invalid.\n"
     ]
    },
    {
     "name": "stdout",
     "output_type": "stream",
     "text": [
      "Confusion Matrix:\n",
      "[[180  33]\n",
      " [ 45 164]]\n",
      "{'eval_loss': 0.9925757646560669, 'eval_accuracy': 0.8151658767772512, 'eval_runtime': 1.3834, 'eval_samples_per_second': 305.05, 'eval_steps_per_second': 38.312, 'epoch': 6.0}\n",
      "{'train_runtime': 594.6545, 'train_samples_per_second': 38.241, 'train_steps_per_second': 4.783, 'train_loss': 0.3640892871153841, 'epoch': 6.0}\n"
     ]
    },
    {
     "data": {
      "text/plain": [
       "TrainOutput(global_step=2844, training_loss=0.3640892871153841, metrics={'train_runtime': 594.6545, 'train_samples_per_second': 38.241, 'train_steps_per_second': 4.783, 'train_loss': 0.3640892871153841, 'epoch': 6.0})"
      ]
     },
     "execution_count": 238,
     "metadata": {},
     "output_type": "execute_result"
    }
   ],
   "source": [
    "trainer.train()"
   ]
  },
  {
   "cell_type": "markdown",
   "metadata": {},
   "source": [
    "1. model: \n",
    "distilbert-base-uncased, batch_size=8, learning_rate=1e-5\n",
    "{'train_runtime': 293.6624, 'train_samples_per_second': 77.436, 'train_steps_per_second': 9.685, 'train_loss': 0.32372328064780365, 'epoch': 6.0}\n",
    "\n",
    "2. model: roberta-base, batch_size=8, learning_rate=1e-5\n",
    "{'eval_loss': 0.9408127665519714,\n",
    " 'eval_accuracy': 0.8199052132701422,\n",
    " 'eval_runtime': 2.0012,\n",
    " 'eval_samples_per_second': 210.876,\n",
    " 'eval_steps_per_second': 26.484,\n",
    " 'epoch': 6.0}\n",
    "\n",
    " 3. model: bert-base-uncased, batch_size=8, learning_rate=1e-5\n",
    " {'eval_loss': 0.9435577988624573,\n",
    " 'eval_accuracy': 0.8293838862559242,\n",
    " 'eval_runtime': 1.2172,\n",
    " 'eval_samples_per_second': 346.696,\n",
    " 'eval_steps_per_second': 43.542,\n",
    " 'epoch': 6.0}\n",
    "\n",
    " 4. bert-base-cased, batch_size=8, learning_rate=1e-5\n",
    " {'eval_loss': 0.5547063946723938,\n",
    " 'eval_accuracy': 0.7748815165876777,\n",
    " 'eval_runtime': 1.4587,\n",
    " 'eval_samples_per_second': 289.303,\n",
    " 'eval_steps_per_second': 36.334,\n",
    " 'epoch': 3.0}"
   ]
  },
  {
   "cell_type": "code",
   "execution_count": 239,
   "metadata": {},
   "outputs": [
    {
     "data": {
      "application/vnd.jupyter.widget-view+json": {
       "model_id": "addff6b6279e4cd88c280e2a04684811",
       "version_major": 2,
       "version_minor": 0
      },
      "text/plain": [
       "  0%|          | 0/53 [00:00<?, ?it/s]"
      ]
     },
     "metadata": {},
     "output_type": "display_data"
    },
    {
     "name": "stdout",
     "output_type": "stream",
     "text": [
      "Confusion Matrix:\n",
      "[[180  33]\n",
      " [ 45 164]]\n"
     ]
    }
   ],
   "source": [
    "results = trainer.evaluate()"
   ]
  },
  {
   "cell_type": "code",
   "execution_count": 243,
   "metadata": {},
   "outputs": [
    {
     "data": {
      "text/plain": [
       "{'eval_loss': 0.9925757646560669,\n",
       " 'eval_accuracy': 0.8151658767772512,\n",
       " 'eval_runtime': 1.3434,\n",
       " 'eval_samples_per_second': 314.12,\n",
       " 'eval_steps_per_second': 39.451,\n",
       " 'epoch': 6.0}"
      ]
     },
     "execution_count": 243,
     "metadata": {},
     "output_type": "execute_result"
    }
   ],
   "source": [
    "results"
   ]
  },
  {
   "cell_type": "code",
   "execution_count": 244,
   "metadata": {},
   "outputs": [
    {
     "name": "stdout",
     "output_type": "stream",
     "text": [
      "Final accuracy: 0.8151658767772512\n"
     ]
    }
   ],
   "source": [
    "print(\"Final accuracy:\", results[\"eval_accuracy\"])"
   ]
  }
 ],
 "metadata": {
  "kernelspec": {
   "display_name": "bert-venv",
   "language": "python",
   "name": "python3"
  },
  "language_info": {
   "codemirror_mode": {
    "name": "ipython",
    "version": 3
   },
   "file_extension": ".py",
   "mimetype": "text/x-python",
   "name": "python",
   "nbconvert_exporter": "python",
   "pygments_lexer": "ipython3",
   "version": "3.10.13"
  }
 },
 "nbformat": 4,
 "nbformat_minor": 2
}
